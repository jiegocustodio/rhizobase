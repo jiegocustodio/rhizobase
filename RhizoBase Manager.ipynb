{
 "cells": [
  {
   "cell_type": "code",
   "execution_count": 1,
   "id": "b643426c",
   "metadata": {},
   "outputs": [],
   "source": [
    "import firebase_admin\n",
    "from firebase_admin import credentials\n",
    "from firebase_admin import db"
   ]
  },
  {
   "cell_type": "code",
   "execution_count": 2,
   "id": "fbda50e9",
   "metadata": {},
   "outputs": [],
   "source": [
    "# Fetch the service account key JSON file contents\n",
    "cred = credentials.Certificate('rhizobase_key2.json')\n",
    "\n",
    "# Initialize the app with a service account, granting admin privileges\n",
    "if not firebase_admin._apps:\n",
    "    firebase_admin.initialize_app(cred, {\n",
    "        'databaseURL': 'https://rhizobase-7595e-default-rtdb.asia-southeast1.firebasedatabase.app/',\n",
    "        'storageBucket': 'rhizobase-7595e.appspot.com'\n",
    "    })\n",
    "\n",
    "# As an admin, the app has access to read and write all data, regradless of Security Rules\n",
    "ref = db.reference('')"
   ]
  },
  {
   "cell_type": "code",
   "execution_count": 3,
   "id": "e8385563",
   "metadata": {},
   "outputs": [],
   "source": [
    "#Get or Set Existing Keys\n",
    "ref = db.reference('')\n",
    "info = ref.get()\n",
    "if (info == None):\n",
    "    ref.update({\n",
    "        \"keys\":{\n",
    "            \"rhizo_image_id\":1,\n",
    "            \"dataset_id\":1,\n",
    "            \"location_id\":1,\n",
    "            \"strain_id\":1,\n",
    "            \"species_id\":1,\n",
    "            \"rhizo_setup_id\":1,\n",
    "            \"device_id\":1,\n",
    "            \"preprocess_id\":1,\n",
    "            \"trl_model_id\":1,\n",
    "            \"pred_trl_id\":1            \n",
    "        }\n",
    "    })\n",
    "ref = db.reference('keys')\n",
    "info = ref.get()\n",
    "keys = info\n"
   ]
  },
  {
   "cell_type": "code",
   "execution_count": 4,
   "id": "3aed60d0",
   "metadata": {},
   "outputs": [
    {
     "name": "stdout",
     "output_type": "stream",
     "text": [
      "{'dataset_id': 1, 'device_id': 3, 'location_id': 3, 'pred_trl_id': 1, 'preprocess_id': 1, 'rhizo_image_id': 7, 'rhizo_setup_id': 3, 'species_id': 3, 'strain_id': 2, 'trl_model_id': 1, 'user_id': 2}\n"
     ]
    }
   ],
   "source": [
    "print(info)"
   ]
  },
  {
   "cell_type": "code",
   "execution_count": 5,
   "id": "c257ec52",
   "metadata": {},
   "outputs": [],
   "source": [
    "def key_update(code,new):\n",
    "    ref = db.reference(\"keys\")\n",
    "    ref.update({\n",
    "        code:new\n",
    "    })\n",
    "    \n",
    "def key_get():\n",
    "    ref = db.reference('')\n",
    "    info = ref.get()\n",
    "    return info[\"keys\"]"
   ]
  },
  {
   "cell_type": "code",
   "execution_count": 6,
   "id": "3a2d9a3d",
   "metadata": {},
   "outputs": [],
   "source": [
    "ref = db.reference('')\n"
   ]
  },
  {
   "cell_type": "code",
   "execution_count": 7,
   "id": "f39caac5",
   "metadata": {},
   "outputs": [],
   "source": [
    "#Add Data that Users do not need to add themselves\n",
    "\n",
    "#Plant Species\n",
    "keys = key_get()\n",
    "ref = db.reference('plant_species')\n",
    "key = keys[\"species_id\"]\n",
    "ref.update({\n",
    "            key:{\n",
    "                \"species_name\":\"Walnut\",\n",
    "                \"scientific_name\": \"Juglans nigra x regia L.\",\n",
    "                \"species_description\": \"A hybrid walnut tree\",\n",
    "                \"species_root_system\": \"Dicot\"\n",
    "            }\n",
    "        })\n",
    "key_update(\"species_id\",key+1)\n",
    "\n",
    "keys = key_get()\n",
    "ref = db.reference('plant_species')\n",
    "key = keys[\"species_id\"]\n",
    "ref.update({\n",
    "            key:{\n",
    "                \"species_name\":\"Thale Cress\",\n",
    "                \"scientific_name\": \"Arabidopsis thaliana\",\n",
    "                \"species_description\": \"A hybrid walnut tree\",\n",
    "                \"species_root_system\": \"Dicot\"\n",
    "            }\n",
    "        })\n",
    "key_update(\"species_id\",key+1)"
   ]
  },
  {
   "cell_type": "code",
   "execution_count": 8,
   "id": "85836823",
   "metadata": {},
   "outputs": [],
   "source": [
    "#Variants\n",
    "keys = key_get()\n",
    "ref = db.reference('strain')\n",
    "key = keys[\"strain_id\"]\n",
    "ref.update({\n",
    "            key:{\n",
    "                \"species_id\":\"2\",\n",
    "                \"strain_description\": \"Col-0 Strain is widely used in genotyping and phenotyping studies\" \n",
    "            }\n",
    "        })\n",
    "key_update(\"strain_id\",key+1)"
   ]
  },
  {
   "cell_type": "code",
   "execution_count": 21,
   "id": "321c4965",
   "metadata": {},
   "outputs": [],
   "source": [
    "#Delete Certain Data if Needed\n",
    "ref = db.reference('')\n",
    "address = \"plant_species/1\"\n",
    "ref.child(address).delete()"
   ]
  },
  {
   "cell_type": "code",
   "execution_count": 32,
   "id": "ec6b695c",
   "metadata": {},
   "outputs": [],
   "source": [
    "#Reset All Data if Needed - complete blank!\n",
    "ref = db.reference('user')\n",
    "user_info = ref.get()\n",
    "user_count = len(user_info)\n",
    "\n",
    "ref = db.reference('')\n",
    "ref.delete()\n",
    "ref.update({\n",
    "    \"keys\":{\n",
    "        \"rhizo_image_id\":1,\n",
    "        \"dataset_id\":1,\n",
    "        \"location_id\":1,\n",
    "        \"user_id\":user_count,\n",
    "        \"strain_id\":1,\n",
    "        \"species_id\":1,\n",
    "        \"rhizo_setup_id\":1,\n",
    "        \"device_id\":1,\n",
    "        \"preprocess_id\":1,\n",
    "        \"trl_model_id\":1,\n",
    "        \"pred_trl_id\":1            \n",
    "    }\n",
    "})\n",
    "ref.update({\n",
    "    \"user\":user_info\n",
    "})"
   ]
  },
  {
   "cell_type": "code",
   "execution_count": 3,
   "id": "a270df06",
   "metadata": {},
   "outputs": [],
   "source": [
    "#Create Templates w key 0\n",
    "ref = db.reference('')\n",
    "ref.child(\"user\").update({\n",
    "    \"0\":{\n",
    "        \"user's name\": \"\",\n",
    "        \"nationality\": \"\",\n",
    "        \"email\": \"\",\n",
    "        \"biography\": \"\",\n",
    "        \"account name\": \"\",\n",
    "        \"password\": \"\",\n",
    "    }\n",
    "})\n",
    "ref.child(\"location\").update({\n",
    "    \"0\":{\n",
    "        \"country\":\"\",\n",
    "        \"city\":\"\",\n",
    "        \"location description\":\"\",\n",
    "        \"latitude\":\"\",\n",
    "        \"longitude\":\"\"            \n",
    "    }\n",
    "})\n",
    "ref.child(\"device\").update({\n",
    "    \"0\":{\n",
    "        \"device type\": \"\",\n",
    "        \"device model\": \"\",\n",
    "        \"device resolution\": \"\"\n",
    "    }\n",
    "})\n",
    "ref.child(\"rhizotron setup\").update({\n",
    "    \"0\":{\n",
    "        \"rhizotron type\":\"\",\n",
    "        \"dimension\":\"\",\n",
    "        \"soil type\":\"\",\n",
    "        \"watering condition\":\"\",\n",
    "        \"casing type\":\"\",\n",
    "        \"device id\":\"\",\n",
    "        \"weather conditions\":\"\",\n",
    "        \"special treatments\":\"\"            \n",
    "    }\n",
    "})\n"
   ]
  },
  {
   "cell_type": "code",
   "execution_count": null,
   "id": "e9a00e7b",
   "metadata": {},
   "outputs": [],
   "source": []
  }
 ],
 "metadata": {
  "kernelspec": {
   "display_name": "cloud",
   "language": "python",
   "name": "cloud"
  },
  "language_info": {
   "codemirror_mode": {
    "name": "ipython",
    "version": 3
   },
   "file_extension": ".py",
   "mimetype": "text/x-python",
   "name": "python",
   "nbconvert_exporter": "python",
   "pygments_lexer": "ipython3",
   "version": "3.10.4"
  }
 },
 "nbformat": 4,
 "nbformat_minor": 5
}
